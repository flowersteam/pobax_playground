{
 "cells": [
  {
   "cell_type": "markdown",
   "metadata": {},
   "source": [
    "This notebook allows you to visualize exploration and exploitation statistics for the Exploration in Malmo Continuous Mountain Cart EMC^2 experiment. make sure your data is in the run_saves/ folder."
   ]
  },
  {
   "cell_type": "code",
   "execution_count": 33,
   "metadata": {},
   "outputs": [],
   "source": [
    "from __future__ import division\n",
    "import numpy as np\n",
    "import os\n",
    "import pylab\n",
    "import seaborn\n",
    "import pickle\n",
    "import scipy.stats as stats\n",
    "import matplotlib.pyplot as plt"
   ]
  },
  {
   "cell_type": "code",
   "execution_count": 75,
   "metadata": {},
   "outputs": [],
   "source": [
    "# Step 1 load data\n",
    "data = pickle.load(open(\"../logs/test_vizu42.pickle\",\"rb\"))\n",
    "bk = pickle.load(open(\"../logs/test_vizu42_book_keeping.pickle\",\"rb\"))\n",
    "nb_iter = len(data['observations'])"
   ]
  },
  {
   "cell_type": "code",
   "execution_count": 76,
   "metadata": {},
   "outputs": [
    {
     "name": "stdout",
     "output_type": "stream",
     "text": [
      "15900 iterations loaded: 1520 arm, 14380 sound\n",
      "['nb_motor_it', 'nb_sound_it', 'raw_torso_sounds', 'nb_culbuto_pronounced', 'nb_culbuto_touched', 'produced_names', 'nb_culbuto_replaced']\n",
      "14380\n",
      "['actions', 'sm_data', 'observations', 'chosen_modules', 'goals']\n",
      "len actions: 15900\n",
      "len sm_data: 5\n",
      "len observations: 15900\n",
      "len chosen_modules: 15900\n",
      "len goals: 14400\n"
     ]
    }
   ],
   "source": [
    "print \"{} iterations loaded: {} arm, {} sound\".format(nb_iter,\n",
    "                                                      bk['nb_motor_it'],\n",
    "                                                      bk['nb_sound_it'])\n",
    "print bk.keys()\n",
    "print len(bk['raw_torso_sounds'])\n",
    "print data.keys()\n",
    "for k,v in data.items():\n",
    "    print 'len {}: {}'.format(k,len(v))"
   ]
  },
  {
   "cell_type": "code",
   "execution_count": 77,
   "metadata": {
    "scrolled": true
   },
   "outputs": [
    {
     "name": "stdout",
     "output_type": "stream",
     "text": [
      "agent_sound\n",
      "15900\n",
      "(79500, 2)\n",
      "caregiver_sound\n",
      "15900\n",
      "(79500, 2)\n",
      "culbuto\n",
      "15900\n",
      "(159000, 3)\n",
      "hand\n",
      "15900\n",
      "(159000, 3)\n"
     ]
    }
   ],
   "source": [
    "# Define motor and sensory spaces:\n",
    "s_hand = range(3, 33)\n",
    "s_culbuto_1 = range(33, 63)\n",
    "s_self_sound = range(63, 73)\n",
    "s_caregiver_sound = range(73, 83)\n",
    "\n",
    "# Extract relevant observation sub parts\n",
    "sub_outcomes = {'hand':{'range': s_hand, 'nb_traj_steps': 10},\n",
    "                'culbuto':{'range': s_culbuto_1, 'nb_traj_steps': 10},\n",
    "                'agent_sound':{'range': s_self_sound, 'nb_traj_steps': 5},\n",
    "                'caregiver_sound':{'range': s_caregiver_sound, 'nb_traj_steps': 5}}\n",
    "\n",
    "for n,d in sub_outcomes.items():\n",
    "    sub_outcomes[n]['traj'] = []\n",
    "    sub_outcomes[n]['raw'] = []\n",
    "    print n\n",
    "    for i in range(nb_iter):\n",
    "        sub_outcomes[n]['traj'].append(data['observations'][i][d['range']])\n",
    "        sub_outcomes[n]['raw'] += np.split(data['observations'][i][d['range']], d['nb_traj_steps'])\n",
    "    sub_outcomes[n]['raw'] = np.array(sub_outcomes[n]['raw'])\n",
    "    print len(sub_outcomes[n]['traj'])\n",
    "    print sub_outcomes[n]['raw'].shape\n",
    "#print len(np.unique(sub_outcomes['hand']['raw']))"
   ]
  },
  {
   "cell_type": "code",
   "execution_count": 78,
   "metadata": {},
   "outputs": [
    {
     "name": "stdout",
     "output_type": "stream",
     "text": [
      "6952\n",
      "(159000, 3)\n"
     ]
    }
   ],
   "source": [
    "# Compute grid-cell exploration\n",
    "# Argument:\n",
    "#   - values: \n",
    "print len(np.unique(stats.binned_statistic_dd(sub_outcomes['hand']['raw'],\n",
    "                                np.arange(len(sub_outcomes['hand']['raw'])),\n",
    "                                bins = 80,\n",
    "                                range=[[-1,1],[-1,1],[-1,1]]).binnumber))\n",
    "print sub_outcomes['culbuto']['raw'].shape"
   ]
  },
  {
   "cell_type": "code",
   "execution_count": 79,
   "metadata": {},
   "outputs": [
    {
     "name": "stdout",
     "output_type": "stream",
     "text": [
      "[  100   200   300   400   500   600   700   800   900  1000  1100  1200\n",
      "  1300  1400  1500  1600  1700  1800  1900  2000  2100  2200  2300  2400\n",
      "  2500  2600  2700  2800  2900  3000  3100  3200  3300  3400  3500  3600\n",
      "  3700  3800  3900  4000  4100  4200  4300  4400  4500  4600  4700  4800\n",
      "  4900  5000  5100  5200  5300  5400  5500  5600  5700  5800  5900  6000\n",
      "  6100  6200  6300  6400  6500  6600  6700  6800  6900  7000  7100  7200\n",
      "  7300  7400  7500  7600  7700  7800  7900  8000  8100  8200  8300  8400\n",
      "  8500  8600  8700  8800  8900  9000  9100  9200  9300  9400  9500  9600\n",
      "  9700  9800  9900 10000 10100 10200 10300 10400 10500 10600 10700 10800\n",
      " 10900 11000 11100 11200 11300 11400 11500 11600 11700 11800 11900 12000\n",
      " 12100 12200 12300 12400 12500 12600 12700 12800 12900 13000 13100 13200\n",
      " 13300 13400 13500 13600 13700 13800 13900 14000 14100 14200 14300 14400\n",
      " 14500 14600 14700 14800 14900 15000 15100 15200 15300 15400 15500 15600\n",
      " 15700 15800 15900]\n",
      "hand\n",
      "[1.95312500e-04 1.95312500e-04 1.95312500e-03 5.07812500e-03\n",
      " 6.83593750e-03 8.39843750e-03 1.17187500e-02 1.32812500e-02\n",
      " 1.32812500e-02 1.64062500e-02 1.79687500e-02 1.79687500e-02\n",
      " 2.10937500e-02 2.26562500e-02 2.26562500e-02 2.44140625e-02\n",
      " 2.75390625e-02 2.91015625e-02 3.06640625e-02 3.53515625e-02\n",
      " 3.53515625e-02 4.02343750e-02 4.02343750e-02 4.16015625e-02\n",
      " 4.16015625e-02 4.31640625e-02 4.45312500e-02 4.45312500e-02\n",
      " 4.74609375e-02 4.74609375e-02 5.05859375e-02 5.21484375e-02\n",
      " 5.21484375e-02 5.21484375e-02 5.21484375e-02 5.21484375e-02\n",
      " 5.52734375e-02 5.83984375e-02 6.15234375e-02 6.15234375e-02\n",
      " 6.30859375e-02 6.46484375e-02 6.46484375e-02 6.62109375e-02\n",
      " 6.62109375e-02 6.62109375e-02 6.93359375e-02 6.93359375e-02\n",
      " 6.93359375e-02 6.93359375e-02 7.08984375e-02 7.38281250e-02\n",
      " 7.51953125e-02 7.67578125e-02 7.83203125e-02 7.96875000e-02\n",
      " 7.96875000e-02 8.10546875e-02 8.39843750e-02 8.39843750e-02\n",
      " 8.86718750e-02 9.16015625e-02 9.31640625e-02 9.47265625e-02\n",
      " 9.47265625e-02 9.62890625e-02 9.62890625e-02 9.78515625e-02\n",
      " 9.78515625e-02 9.78515625e-02 9.78515625e-02 9.94140625e-02\n",
      " 9.94140625e-02 9.94140625e-02 9.94140625e-02 9.94140625e-02\n",
      " 1.00976563e-01 1.03710938e-01 1.03710938e-01 1.03710938e-01\n",
      " 1.05273438e-01 1.06640625e-01 1.06640625e-01 1.08007813e-01\n",
      " 1.09375000e-01 1.09375000e-01 1.12500000e-01 1.16796875e-01\n",
      " 1.20703125e-01 1.21875000e-01 1.21875000e-01 1.21875000e-01\n",
      " 1.23437500e-01 1.25000000e-01 1.26367188e-01 1.28906250e-01\n",
      " 1.28906250e-01 1.31835938e-01 1.33398438e-01 1.37695312e-01\n",
      " 1.37695312e-01 1.42187500e-01 1.43750000e-01 1.43750000e-01\n",
      " 1.45312500e-01 1.50976562e-01 1.50976562e-01 1.50976562e-01\n",
      " 1.52343750e-01 1.52343750e-01 1.53906250e-01 1.55273438e-01\n",
      " 1.55273438e-01 1.56640625e-01 1.60937500e-01 1.60937500e-01\n",
      " 1.60937500e-01 1.60937500e-01 1.62304687e-01 1.63867187e-01\n",
      " 1.66601562e-01 1.66601562e-01 1.69726563e-01 1.69726563e-01\n",
      " 1.69726563e-01 1.71289063e-01 1.72460937e-01 1.72460937e-01\n",
      " 1.74023437e-01 1.75585938e-01 1.81445313e-01 1.83789062e-01\n",
      " 1.84960937e-01 1.84960937e-01 1.86523438e-01 1.86523438e-01\n",
      " 1.90625000e-01 1.93554687e-01 1.96679687e-01 1.99804687e-01\n",
      " 2.02343750e-01 2.03906250e-01 2.07031250e-01 2.08203125e-01\n",
      " 2.08203125e-01 2.11328125e-01 2.11328125e-01 2.12890625e-01\n",
      " 2.14062500e-01 2.15625000e-01 2.15625000e-01 2.15625000e-01\n",
      " 2.17187500e-01 2.18750000e-01 2.18750000e-01 2.19921875e-01\n",
      " 2.21289062e-01 2.21289062e-01 2.26367188e-01]\n",
      "culbuto\n",
      "[0.00019531 0.00019531 0.00078125 0.00117187 0.00175781 0.00175781\n",
      " 0.00175781 0.00175781 0.00175781 0.00175781 0.00175781 0.00175781\n",
      " 0.00175781 0.00175781 0.00175781 0.00175781 0.00332031 0.00351562\n",
      " 0.00390625 0.00410156 0.00410156 0.00410156 0.00410156 0.00410156\n",
      " 0.00410156 0.00410156 0.00410156 0.00410156 0.00410156 0.00410156\n",
      " 0.00410156 0.00410156 0.00410156 0.00410156 0.00410156 0.00410156\n",
      " 0.00429687 0.00429687 0.00429687 0.00429687 0.00429687 0.00429687\n",
      " 0.00429687 0.00429687 0.00429687 0.00429687 0.00429687 0.00429687\n",
      " 0.00429687 0.00429687 0.00429687 0.00429687 0.00488281 0.00507813\n",
      " 0.00546875 0.00546875 0.00546875 0.00546875 0.00546875 0.00546875\n",
      " 0.00546875 0.00546875 0.00546875 0.00546875 0.00546875 0.00546875\n",
      " 0.00546875 0.00546875 0.00546875 0.00546875 0.00546875 0.00546875\n",
      " 0.00546875 0.00546875 0.00546875 0.00546875 0.00546875 0.00546875\n",
      " 0.00546875 0.00546875 0.00566406 0.00566406 0.00566406 0.00566406\n",
      " 0.00566406 0.00566406 0.00605469 0.00605469 0.00605469 0.00605469\n",
      " 0.00605469 0.00605469 0.00644531 0.00644531 0.00664063 0.00683594\n",
      " 0.00683594 0.00683594 0.00683594 0.00898437 0.00898437 0.00996094\n",
      " 0.00996094 0.00996094 0.00996094 0.00996094 0.00996094 0.00996094\n",
      " 0.00996094 0.00996094 0.00996094 0.00996094 0.00996094 0.01054688\n",
      " 0.0109375  0.0109375  0.0109375  0.0109375  0.01113281 0.01132813\n",
      " 0.01191406 0.01191406 0.01191406 0.01191406 0.01191406 0.01191406\n",
      " 0.01191406 0.01191406 0.01191406 0.01191406 0.01191406 0.01191406\n",
      " 0.01191406 0.01191406 0.01191406 0.01191406 0.01191406 0.01191406\n",
      " 0.01191406 0.01191406 0.01191406 0.01191406 0.01191406 0.01210938\n",
      " 0.01210938 0.01210938 0.01210938 0.01210938 0.01210938 0.01210938\n",
      " 0.01210938 0.01210938 0.01210938 0.01210938 0.01210938 0.01210938\n",
      " 0.01230469 0.01230469 0.01289063]\n",
      "agent_sound\n",
      "[ 0.96  1.73  2.5   3.19  3.91  4.72  5.42  6.13  6.81  7.42  8.09  8.73\n",
      "  9.26  9.94 10.52 11.08 11.68 12.15 12.61 13.19 13.74 14.25 14.78 15.23\n",
      " 15.79 16.24 16.67 17.11 17.62 18.03 18.37 18.77 19.28 19.7  20.17 20.61\n",
      " 21.09 21.57 21.95 22.39 22.82 23.24 23.78 24.08 24.37 24.78 25.18 25.56\n",
      " 25.99 26.35 26.67 27.02 27.32 27.76 28.12 28.43 28.77 29.09 29.48 29.76\n",
      " 30.09 30.41 30.81 31.14 31.46 31.73 32.01 32.32 32.54 32.8  33.06 33.4\n",
      " 33.63 33.97 34.24 34.58 35.   35.34 35.69 35.99 36.34 36.74 37.11 37.47\n",
      " 37.88 38.14 38.41 38.78 39.08 39.39 39.7  39.94 40.18 40.41 40.68 40.85\n",
      " 41.09 41.33 41.6  41.85 42.02 42.23 42.5  42.72 42.98 43.14 43.32 43.53\n",
      " 43.73 44.01 44.28 44.42 44.67 44.87 45.12 45.32 45.52 45.73 45.86 46.04\n",
      " 46.22 46.5  46.66 46.79 47.03 47.25 47.4  47.58 47.8  47.96 48.14 48.34\n",
      " 48.54 48.69 48.88 48.98 49.18 49.42 49.57 49.73 49.9  50.11 50.24 50.4\n",
      " 50.58 50.76 50.87 50.96 51.1  51.26 51.35 51.47 51.57 51.77 51.89 52.05\n",
      " 52.22 52.34 52.54]\n",
      "caregiver_sound\n",
      "[0.01 0.11 0.13 0.17 0.17 0.17 0.17 0.17 0.17 0.17 0.17 0.17 0.17 0.17\n",
      " 0.17 0.17 0.17 0.17 0.17 0.17 0.17 0.17 0.17 0.17 0.17 0.17 0.17 0.17\n",
      " 0.17 0.17 0.17 0.17 0.17 0.17 0.17 0.17 0.17 0.17 0.17 0.17 0.17 0.17\n",
      " 0.17 0.17 0.17 0.17 0.17 0.17 0.17 0.17 0.17 0.17 0.17 0.17 0.17 0.17\n",
      " 0.17 0.17 0.17 0.17 0.17 0.17 0.17 0.17 0.17 0.17 0.17 0.17 0.17 0.17\n",
      " 0.17 0.17 0.17 0.17 0.17 0.17 0.17 0.17 0.17 0.17 0.17 0.17 0.17 0.17\n",
      " 0.17 0.17 0.17 0.17 0.17 0.17 0.17 0.17 0.17 0.17 0.17 0.17 0.17 0.17\n",
      " 0.17 0.17 0.17 0.17 0.17 0.17 0.17 0.17 0.17 0.17 0.17 0.17 0.17 0.17\n",
      " 0.17 0.17 0.17 0.17 0.17 0.17 0.17 0.17 0.17 0.17 0.17 0.17 0.17 0.17\n",
      " 0.17 0.17 0.17 0.17 0.17 0.17 0.17 0.17 0.17 0.17 0.17 0.17 0.17 0.17\n",
      " 0.17 0.17 0.17 0.17 0.17 0.17 0.17 0.17 0.17 0.17 0.17 0.17 0.17 0.17\n",
      " 0.17 0.17 0.17 0.17 0.17]\n",
      "(4, 159)\n"
     ]
    }
   ],
   "source": [
    "nb_runs = 1\n",
    "\n",
    "# Grid cell exploration curves\n",
    "metric = ['hand','culbuto','agent_sound','caregiver_sound']\n",
    "bins = [80,80,100,100]\n",
    "\n",
    "nb_metrics = len(metric)\n",
    "plot_every = 100\n",
    "plot_steps = np.arange(plot_every,((nb_iter // plot_every)+1)*plot_every,plot_every)\n",
    "print plot_steps\n",
    "\n",
    "explo = np.zeros((nb_metrics,nb_runs,len(plot_steps)))\n",
    "for i, plot_idx in enumerate(plot_steps):\n",
    "    for m_idx, m in enumerate(metric):\n",
    "            nb_dims = sub_outcomes[m]['raw'].shape[1]\n",
    "            samples = sub_outcomes[m]['raw'][:plot_idx,:]\n",
    "            nb_explored_cells = len(np.unique(stats.binned_statistic_dd(samples,\n",
    "                                                                        np.arange(len(samples)),\n",
    "                                                                        bins = bins[m_idx],\n",
    "                                                                        range=[[-1,1]]*nb_dims).binnumber))\n",
    "            nb_cells = bins[m_idx]**nb_dims\n",
    "            explo[m_idx,0,i] = (nb_explored_cells / nb_cells)*100\n",
    "for m_idx, m in enumerate(metric):\n",
    "    #print m\n",
    "    #print explo[m_idx,0,:]\n",
    "mean_explo = np.mean(explo,axis=1)\n",
    "std_explo = np.std(explo,axis=1)\n",
    "#print mean_explo.shape\n"
   ]
  },
  {
   "cell_type": "code",
   "execution_count": 80,
   "metadata": {},
   "outputs": [
    {
     "name": "stdout",
     "output_type": "stream",
     "text": [
      "agent exploration\n",
      "hand\n"
     ]
    },
    {
     "data": {
      "image/png": "[encoded data removed]",
      "text/plain": [
       "<matplotlib.figure.Figure at 0x7fbd94229450>"
      ]
     },
     "metadata": {},
     "output_type": "display_data"
    },
    {
     "name": "stdout",
     "output_type": "stream",
     "text": [
      "culbuto\n"
     ]
    },
    {
     "data": {
      "image/png": "[encoded data removed]",
      "text/plain": [
       "<matplotlib.figure.Figure at 0x7fbd96e927d0>"
      ]
     },
     "metadata": {},
     "output_type": "display_data"
    },
    {
     "name": "stdout",
     "output_type": "stream",
     "text": [
      "agent_sound\n"
     ]
    },
    {
     "data": {
      "image/png": "[encoded data removed]",
      "text/plain": [
       "<matplotlib.figure.Figure at 0x7fbd96675450>"
      ]
     },
     "metadata": {},
     "output_type": "display_data"
    },
    {
     "name": "stdout",
     "output_type": "stream",
     "text": [
      "caregiver_sound\n"
     ]
    },
    {
     "data": {
      "image/png": "[encoded data removed]",
      "text/plain": [
       "<matplotlib.figure.Figure at 0x7fbd9670db90>"
      ]
     },
     "metadata": {},
     "output_type": "display_data"
    }
   ],
   "source": [
    "def plot_with_std(x,y,err,color,shade_color,label,y_min=None,y_max=None):\n",
    "    plt.plot(x,y, color=color, label=label,linewidth=1.5)\n",
    "    plt.fill_between(x,y-err,y+err,color=shade_color,alpha=0.5)\n",
    "    leg = plt.legend(loc='lower right')\n",
    "    for legobj in leg.legendHandles:\n",
    "        legobj.set_linewidth(4.0)\n",
    "    plt.xlabel('episodes')\n",
    "    plt.ylabel('exploration %')\n",
    "    if y_min is not None:\n",
    "        plt.ylim(ymin=y_min,ymax=y_max)\n",
    "\n",
    "colors = ['red','blue','green','magenta','black','cyan','orange']\n",
    "shades_colors = ['lightsalmon','skyblue','lightgreen','violet']\n",
    "print \"agent exploration\"\n",
    "for i,m in enumerate(metric):\n",
    "    print m\n",
    "    y = mean_explo[i,:]\n",
    "    err = std_explo[i,:]\n",
    "    plot_with_std(plot_steps,y,err,colors[i],shades_colors[i],metric[i])\n",
    "    plt.show()\n",
    "#plt.savefig(\"dist_agent_pos_expl.pdf\", bbox_inches='tight')"
   ]
  },
  {
   "cell_type": "code",
   "execution_count": 81,
   "metadata": {},
   "outputs": [
    {
     "name": "stdout",
     "output_type": "stream",
     "text": [
      "human sounds ['eyu', 'oey', 'eou', 'oyi']\n"
     ]
    }
   ],
   "source": [
    "import pickle\n",
    "from rospkg.rospack import RosPack\n",
    "import rospy\n",
    "from os.path import join\n",
    "\n",
    "# Sound config\n",
    "def compress_sound_traj(sound):\n",
    "    assert(len(sound) == 100)\n",
    "    f1s = sound[:50]\n",
    "    f3s = sound[50:]\n",
    "    return np.append(f1s[np.array([0, 12, 24, 37, 49])],f3s[np.array([0, 12, 24, 37, 49])])\n",
    "\n",
    "v_o = list(np.log2([500, 900]))\n",
    "v_y = list(np.log2([300, 1700]))\n",
    "v_u = list(np.log2([300, 800]))\n",
    "v_e = list(np.log2([400, 2200]))\n",
    "v_i = list(np.log2([300, 2300]))\n",
    "\n",
    "# Retrieve caregiver sounds and trajectories from json\n",
    "rospack = RosPack()\n",
    "with open(join(rospack.get_path('pobax_playground'), 'config', 'human_sounds.pickle')) as f:\n",
    "    full_human_motor_traj, full_human_sounds_traj  = pickle.load(f)\n",
    "human_sounds = full_human_sounds_traj.keys()\n",
    "rospy.loginfo('Voice node using the word %s for culbuto name' % human_sounds[0])\n",
    "\n",
    "vowels = dict(o=v_o, y=v_y, u=v_u, e=v_e, i=v_i)\n",
    "\n",
    "human_sounds = ['eyu', 'oey', 'eou', 'oyi']\n",
    "print \"human sounds\", human_sounds\n",
    "\n",
    "human_sounds_traj = dict()\n",
    "human_sounds_traj_std = dict()\n",
    "best_vocal_errors = {}\n",
    "best_vocal_errors_evolution = []\n",
    "for hs in human_sounds:\n",
    "    best_vocal_errors[hs] = 10.\n",
    "    human_sounds_traj[hs] = compress_sound_traj(full_human_sounds_traj[hs])\n",
    "    human_sounds_traj_std[hs] = [d - 8.5 for d in human_sounds_traj[hs][:5]] + [d - 10.25 for d in human_sounds_traj[hs][5:]]    \n",
    "        \n",
    "sound_tol = 0.4   "
   ]
  },
  {
   "cell_type": "code",
   "execution_count": 82,
   "metadata": {},
   "outputs": [
    {
     "data": {
      "text/plain": [
       "(array([ 8.,  6.,  2.,  3.,  7., 21., 44., 55., 42., 41.]),\n",
       " array([ 1823. ,  3228.9,  4634.8,  6040.7,  7446.6,  8852.5, 10258.4,\n",
       "        11664.3, 13070.2, 14476.1, 15882. ]),\n",
       " <a list of 10 Patch objects>)"
      ]
     },
     "execution_count": 82,
     "metadata": {},
     "output_type": "execute_result"
    },
    {
     "data": {
      "image/png": "[encoded data removed]",
      "text/plain": [
       "<matplotlib.figure.Figure at 0x7fbd96d00090>"
      ]
     },
     "metadata": {},
     "output_type": "display_data"
    }
   ],
   "source": [
    "# Plot culbuto name frequency\n",
    "def analysis_sound(sound):\n",
    "        #return human_sounds[2]\n",
    "        #print human_sounds_traj\n",
    "        for hs in human_sounds:\n",
    "            #sound = np.array([f[0] for f in diva_traj[[0, 12, 24, 37, 49]]] + [f[1] for f in diva_traj[[0, 12, 24, 37, 49]]])\n",
    "            error = np.linalg.norm(np.array(human_sounds_traj[hs]) - sound)\n",
    "            if error < sound_tol:\n",
    "                #print \"***********Agent says\", hs\n",
    "                return hs\n",
    "        return None\n",
    "\n",
    "culb_name_said = []\n",
    "for i,s in enumerate(sub_outcomes['agent_sound']['traj']):\n",
    "    #denormalize s\n",
    "    original_s = [d + 8.5 for d in s[:5]] + [d + 10.25 for d in s[5:]]    \n",
    "    res = analysis_sound(original_s)\n",
    "    if res == 'eyu':\n",
    "        culb_name_said.append(i)\n",
    "plt.hist(culb_name_said)\n",
    "        "
   ]
  },
  {
   "cell_type": "code",
   "execution_count": null,
   "metadata": {},
   "outputs": [],
   "source": [
    "\n",
    "    \n",
    "\n",
    "\n"
   ]
  },
  {
   "cell_type": "code",
   "execution_count": null,
   "metadata": {},
   "outputs": [],
   "source": []
  },
  {
   "cell_type": "code",
   "execution_count": null,
   "metadata": {},
   "outputs": [],
   "source": []
  }
 ],
 "metadata": {
  "kernelspec": {
   "display_name": "Python 2",
   "language": "python",
   "name": "python2"
  },
  "language_info": {
   "codemirror_mode": {
    "name": "ipython",
    "version": 2
   },
   "file_extension": ".py",
   "mimetype": "text/x-python",
   "name": "python",
   "nbconvert_exporter": "python",
   "pygments_lexer": "ipython2",
   "version": "2.7.12"
  }
 },
 "nbformat": 4,
 "nbformat_minor": 2
}
